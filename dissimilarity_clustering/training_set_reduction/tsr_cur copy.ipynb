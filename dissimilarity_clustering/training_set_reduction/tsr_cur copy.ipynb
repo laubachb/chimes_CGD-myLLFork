{
 "cells": [
  {
   "cell_type": "code",
   "execution_count": 1,
   "metadata": {},
   "outputs": [],
   "source": [
    "import pickle\n",
    "import os\n",
    "import numpy as np\n",
    "import pandas as pd\n",
    "import matplotlib.pyplot as plt\n",
    "import copy\n",
    "\n",
    "# https://github.com/gentaiscool/matrix_fact/blob/main/matrix_fact/cur.py\n",
    "\n",
    "from matrix_fact.cur import CUR"
   ]
  },
  {
   "cell_type": "code",
   "execution_count": 2,
   "metadata": {},
   "outputs": [
    {
     "name": "stdout",
     "output_type": "stream",
     "text": [
      "training_data_#0000.xyz\n",
      "training_data_#0050.xyz\n",
      "training_data_#0055.xyz\n",
      "training_data_#0060.xyz\n",
      "training_data_#0075.xyz\n",
      "training_data_#0080.xyz\n",
      "training_data_#0110.xyz\n",
      "(300, 180)\n"
     ]
    }
   ],
   "source": [
    "# Get the current working directory\n",
    "cwd = os.getcwd()\n",
    "\n",
    "# Define file paths with cwd appended\n",
    "file_path_2b = os.path.join(cwd, \"../dft_pds/2b_all_pd\")\n",
    "file_path_3b = os.path.join(cwd, \"../dft_pds/3b_all_pd\")\n",
    "file_path_4b = os.path.join(cwd, \"../dft_pds/4b_all_pd\")\n",
    "file_path_labels = os.path.join(cwd, \"../dft_pds/labels_pd\")\n",
    "file_path_natoms = os.path.join(cwd, \"../test_notebooks/energies_per_atom.txt\")\n",
    "\n",
    "# Open pickle files with the updated file paths\n",
    "with open(file_path_2b, 'rb') as pickle_file:\n",
    "    pd_2b = pickle.load(pickle_file)\n",
    "\n",
    "with open(file_path_3b, 'rb') as pickle_file:\n",
    "    pd_3b = pickle.load(pickle_file)\n",
    "\n",
    "with open(file_path_4b, 'rb') as pickle_file:\n",
    "    pd_4b = pickle.load(pickle_file)\n",
    "\n",
    "with open(file_path_labels, 'rb') as pickle_file:\n",
    "    labels = pickle.load(pickle_file)\n",
    "\n",
    "natom_list = []\n",
    "\n",
    "# Open the text file for reading\n",
    "with open(file_path_natoms, 'r') as file:\n",
    "\n",
    "    # Read the contents of the file\n",
    "    lines = file.readlines()[1:]\n",
    "\n",
    "    # Iterate through each line\n",
    "    for line in lines:\n",
    "\n",
    "        # Split the line into words\n",
    "        words = line.split()\n",
    "        natoms = line.split(\"|\")[1].strip()\n",
    "\n",
    "        # Extract the last word, assuming it's a number\n",
    "        last_number = float(words[-1])\n",
    "        if words[0][-1] == 'z':\n",
    "            print(words[0])\n",
    "            continue\n",
    "        natom_list.append(natoms)\n",
    "\n",
    "natom_list = np.array(natom_list[:-10])\n",
    "\n",
    "# Combine the arrays along the second axis (axis=1)\n",
    "all_array = np.concatenate((pd_2b, pd_3b, pd_4b), axis=2)\n",
    "all_array = all_array.reshape(-1, all_array.shape[2])\n",
    "print(np.shape(all_array))\n",
    "df_fingerprints = pd.DataFrame(all_array)\n",
    "\n",
    "# Define the column labels for each set of columns\n",
    "column_labels_2b = [f'2B_{i}' for i in range(60)]\n",
    "column_labels_3b = [f'3B_{i}' for i in range(60)]\n",
    "column_labels_4b = [f'4B_{i}' for i in range(60)]\n",
    "\n",
    "# Assign the column labels to the DataFrame\n",
    "column_labels = column_labels_2b + column_labels_3b + column_labels_4b\n",
    "df_fingerprints.columns = column_labels\n",
    "df_fingerprints = df_fingerprints.fillna(0)\n",
    "\n",
    "df_fingerprints.head()\n",
    "df_fingerprints.to_csv('out.csv')\n",
    "M = df_fingerprints.to_numpy()"
   ]
  },
  {
   "cell_type": "code",
   "execution_count": 13,
   "metadata": {},
   "outputs": [],
   "source": [
    "# https://github.com/gentaiscool/matrix_fact/blob/main/matrix_fact/cur.py\n",
    "\n",
    "from matrix_fact.cur import CUR\n",
    "\n",
    "cur_mdl = CUR(M, rrank=300, crank=180)  \n",
    "cur_mdl.factorize()"
   ]
  },
  {
   "cell_type": "code",
   "execution_count": 21,
   "metadata": {},
   "outputs": [
    {
     "name": "stdout",
     "output_type": "stream",
     "text": [
      "(300,)\n"
     ]
    }
   ],
   "source": [
    "np.shape(cur_mdl.V)\n",
    "# Calculate the two-norm of each row\n",
    "norms = np.linalg.norm(cur_mdl.V, axis=1)\n",
    "\n",
    "print(norms.shape)"
   ]
  },
  {
   "cell_type": "code",
   "execution_count": 1,
   "metadata": {},
   "outputs": [
    {
     "ename": "NameError",
     "evalue": "name 'np' is not defined",
     "output_type": "error",
     "traceback": [
      "\u001b[0;31m---------------------------------------------------------------------------\u001b[0m",
      "\u001b[0;31mNameError\u001b[0m                                 Traceback (most recent call last)",
      "Cell \u001b[0;32mIn[1], line 2\u001b[0m\n\u001b[1;32m      1\u001b[0m \u001b[38;5;66;03m# Get the indices of the sorted vector from highest to lowest\u001b[39;00m\n\u001b[0;32m----> 2\u001b[0m sorted_indices \u001b[38;5;241m=\u001b[39m np\u001b[38;5;241m.\u001b[39margsort(norms)[::\u001b[38;5;241m-\u001b[39m\u001b[38;5;241m1\u001b[39m]\n\u001b[1;32m      4\u001b[0m \u001b[38;5;66;03m# Plot the indices\u001b[39;00m\n\u001b[1;32m      5\u001b[0m plt\u001b[38;5;241m.\u001b[39mfigure(figsize\u001b[38;5;241m=\u001b[39m(\u001b[38;5;241m8\u001b[39m, \u001b[38;5;241m6\u001b[39m))\n",
      "\u001b[0;31mNameError\u001b[0m: name 'np' is not defined"
     ]
    }
   ],
   "source": [
    "# Get the indices of the sorted vector from highest to lowest\n",
    "sorted_indices = np.argsort(norms)[::-1]\n",
    "\n",
    "# Plot the indices\n",
    "plt.figure(figsize=(8, 6))\n",
    "plt.plot(sorted_indices, range(len(sorted_indices)), marker='o', linestyle='-', color='b')\n",
    "plt.xlabel('Index')\n",
    "plt.ylabel('Sorted Position')\n",
    "plt.title('Indices of Sorted Vector')\n",
    "plt.grid(True)\n",
    "plt.show()"
   ]
  },
  {
   "cell_type": "code",
   "execution_count": null,
   "metadata": {},
   "outputs": [],
   "source": []
  }
 ],
 "metadata": {
  "kernelspec": {
   "display_name": "Python 3",
   "language": "python",
   "name": "python3"
  },
  "language_info": {
   "codemirror_mode": {
    "name": "ipython",
    "version": 3
   },
   "file_extension": ".py",
   "mimetype": "text/x-python",
   "name": "python",
   "nbconvert_exporter": "python",
   "pygments_lexer": "ipython3",
   "version": "3.11.5"
  }
 },
 "nbformat": 4,
 "nbformat_minor": 2
}
