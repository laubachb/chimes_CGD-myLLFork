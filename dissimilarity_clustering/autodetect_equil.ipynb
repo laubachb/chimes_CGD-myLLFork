{
 "cells": [
  {
   "cell_type": "code",
   "execution_count": 13,
   "metadata": {},
   "outputs": [],
   "source": [
    "import pickle\n",
    "import pandas as pd\n",
    "import numpy as np\n",
    "import matplotlib.pyplot as plt"
   ]
  },
  {
   "cell_type": "code",
   "execution_count": 5,
   "metadata": {},
   "outputs": [
    {
     "name": "stdout",
     "output_type": "stream",
     "text": [
      "(12, 180, 1)\n"
     ]
    }
   ],
   "source": [
    "with open(\"2b_avg_pd_equilibrium\", 'rb') as pickle_file:\n",
    "    avg_pd_2b = pickle.load(pickle_file)\n",
    "\n",
    "with open(\"3b_avg_pd_equilibrium\", 'rb') as pickle_file:\n",
    "    avg_pd_3b = pickle.load(pickle_file)\n",
    "\n",
    "with open(\"4b_avg_pd_equilibrium\", 'rb') as pickle_file:\n",
    "    avg_pd_4b = pickle.load(pickle_file)\n",
    "\n",
    "# Combine the arrays along the second axis (axis=1)\n",
    "combined_array = np.concatenate((avg_pd_2b, avg_pd_3b, avg_pd_4b), axis=1)\n",
    "\n",
    "# Verify the shape of the combined array\n",
    "print(combined_array.shape)  # Output will be (12, 180, 1)\n",
    "\n",
    "# Reshape the array to (12, 60) before creating the DataFrame\n",
    "reshaped_data = np.array(combined_array).reshape(12, 180)\n",
    "\n",
    "# Create a DataFrame\n",
    "avg_df = pd.DataFrame(reshaped_data) # Ground Truth"
   ]
  },
  {
   "cell_type": "code",
   "execution_count": 7,
   "metadata": {},
   "outputs": [
    {
     "name": "stdout",
     "output_type": "stream",
     "text": [
      "(12, 13, 180)\n",
      "(156, 180)\n",
      "(156,)\n"
     ]
    }
   ],
   "source": [
    "with open(\"2b_all_pd_equilibrium\", 'rb') as pickle_file:\n",
    "    equil_pd_2b = pickle.load(pickle_file)\n",
    "\n",
    "with open(\"3b_all_pd_equilibrium\", 'rb') as pickle_file:\n",
    "    equil_pd_3b = pickle.load(pickle_file)\n",
    "\n",
    "with open(\"4b_all_pd_equilibrium\", 'rb') as pickle_file:\n",
    "    equil_pd_4b = pickle.load(pickle_file)\n",
    "\n",
    "# Combine the arrays along the second axis (axis=1)\n",
    "all_array = np.concatenate((equil_pd_2b, equil_pd_3b, equil_pd_4b), axis=2)\n",
    "print(np.shape(all_array))\n",
    "all_array = all_array.reshape(-1,all_array.shape[2])\n",
    "print(np.shape(all_array))\n",
    "\n",
    "# Create labels array\n",
    "# Define the maximum number of repetitions for each number\n",
    "max_repetitions = 13\n",
    "# Define the range of numbers from 0 to 11\n",
    "numbers_range = np.arange(12)\n",
    "# Create the array\n",
    "labels = np.repeat(numbers_range, max_repetitions)\n",
    "print(np.shape(labels))\n",
    "all_equilibrium_df = pd.DataFrame(all_array)"
   ]
  },
  {
   "cell_type": "markdown",
   "metadata": {},
   "source": [
    "Compute KL Divergence"
   ]
  },
  {
   "cell_type": "code",
   "execution_count": 15,
   "metadata": {},
   "outputs": [
    {
     "name": "stdout",
     "output_type": "stream",
     "text": [
      "0     0.014500\n",
      "1     0.025653\n",
      "2     0.000953\n",
      "3     0.002412\n",
      "4     0.002758\n",
      "5     0.005197\n",
      "6     0.008200\n",
      "7     0.009836\n",
      "8     0.005690\n",
      "9     0.002687\n",
      "10    0.004020\n",
      "11    0.016872\n",
      "12    0.009850\n",
      "dtype: float64\n"
     ]
    },
    {
     "data": {
      "image/png": "[encoded data removed]",
      "text/plain": [
       "<Figure size 432x288 with 1 Axes>"
      ]
     },
     "metadata": {
      "needs_background": "light"
     },
     "output_type": "display_data"
    }
   ],
   "source": [
    "import pandas as pd\n",
    "from scipy.stats import entropy\n",
    "\n",
    "# https://datascience.stackexchange.com/questions/9262/calculating-kl-divergence-in-python\n",
    "def KL(a, b):\n",
    "    a = np.asarray(a, dtype=np.float)\n",
    "    b = np.asarray(b, dtype=np.float)\n",
    "\n",
    "    return np.sum(np.where(a != 0, a * np.log(a / b), 0))\n",
    "\n",
    "# Take the first 13 rows of df1\n",
    "df1_first_13 = all_equilibrium_df.iloc[:13]\n",
    "\n",
    "# Take the first row of df2\n",
    "reference_row = avg_df.iloc[0]\n",
    "avg_df\n",
    "# Compute KL divergence for each row in df1_first_13 relative to reference_row\n",
    "kl_divergences = []\n",
    "for index, row in df1_first_13.iterrows():\n",
    "    kl_divergence = entropy(row, reference_row)\n",
    "    kl_divergences.append(kl_divergence)\n",
    "\n",
    "# Convert the list of KL divergences to a pandas Series\n",
    "kl_divergences_series = pd.Series(kl_divergences, index=df1_first_13.index)\n",
    "\n",
    "print(kl_divergences_series)\n",
    "\n",
    "import matplotlib.pyplot as plt\n",
    "\n",
    "# Assuming kl_divergences_series contains the computed KL divergences\n",
    "\n",
    "# Plot a histogram of KL divergences\n",
    "plt.hist(kl_divergences_series, bins=20, color='skyblue', edgecolor='black')\n",
    "plt.title('Distribution of KL Divergences')\n",
    "plt.xlabel('KL Divergence')\n",
    "plt.ylabel('Frequency')\n",
    "plt.show()\n"
   ]
  },
  {
   "cell_type": "code",
   "execution_count": null,
   "metadata": {},
   "outputs": [],
   "source": []
  }
 ],
 "metadata": {
  "kernelspec": {
   "display_name": "base",
   "language": "python",
   "name": "python3"
  },
  "language_info": {
   "codemirror_mode": {
    "name": "ipython",
    "version": 3
   },
   "file_extension": ".py",
   "mimetype": "text/x-python",
   "name": "python",
   "nbconvert_exporter": "python",
   "pygments_lexer": "ipython3",
   "version": "3.9.7"
  }
 },
 "nbformat": 4,
 "nbformat_minor": 2
}
