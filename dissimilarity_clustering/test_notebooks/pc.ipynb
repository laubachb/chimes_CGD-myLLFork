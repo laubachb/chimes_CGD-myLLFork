{
 "cells": [
  {
   "cell_type": "code",
   "execution_count": 1,
   "metadata": {},
   "outputs": [],
   "source": [
    "import numpy as np\n"
   ]
  },
  {
   "cell_type": "code",
   "execution_count": 2,
   "metadata": {},
   "outputs": [
    {
     "name": "stdout",
     "output_type": "stream",
     "text": [
      "[[1. 1. 1.]\n",
      " [1. 1. 1.]\n",
      " [1. 1. 1.]]\n"
     ]
    }
   ],
   "source": [
    "def pearson_correlation(matrix):\n",
    "    # Calculate mean of each column\n",
    "    column_means = np.mean(matrix, axis=0)\n",
    "    \n",
    "    # Subtract the mean from each element\n",
    "    centered_matrix = matrix - column_means\n",
    "    \n",
    "    # Calculate the numerator\n",
    "    numerator = np.dot(centered_matrix.T, centered_matrix)\n",
    "    \n",
    "    # Calculate the denominator\n",
    "    denominator = np.sqrt(np.sum(centered_matrix**2, axis=0))\n",
    "    denominator_matrix = np.outer(denominator, denominator)\n",
    "    \n",
    "    # Handle division by zero\n",
    "    denominator_matrix[denominator_matrix == 0] = np.nan\n",
    "    \n",
    "    # Calculate the correlation matrix\n",
    "    correlation_matrix = numerator / denominator_matrix\n",
    "    \n",
    "    return correlation_matrix\n",
    "\n",
    "# Example matrix\n",
    "matrix = np.array([[1, 2, 3], [4, 5, 6], [7, 8, 9]])\n",
    "\n",
    "# Calculate Pearson correlation coefficient\n",
    "correlation_matrix = pearson_correlation(matrix)\n",
    "print(correlation_matrix)\n"
   ]
  },
  {
   "cell_type": "code",
   "execution_count": null,
   "metadata": {},
   "outputs": [],
   "source": []
  }
 ],
 "metadata": {
  "kernelspec": {
   "display_name": "base",
   "language": "python",
   "name": "python3"
  },
  "language_info": {
   "codemirror_mode": {
    "name": "ipython",
    "version": 3
   },
   "file_extension": ".py",
   "mimetype": "text/x-python",
   "name": "python",
   "nbconvert_exporter": "python",
   "pygments_lexer": "ipython3",
   "version": "3.11.5"
  }
 },
 "nbformat": 4,
 "nbformat_minor": 2
}
