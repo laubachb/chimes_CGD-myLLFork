{
 "cells": [
  {
   "cell_type": "code",
   "execution_count": 2,
   "metadata": {},
   "outputs": [],
   "source": [
    "import numpy as np\n",
    "import matplotlib.pyplot as plt"
   ]
  },
  {
   "cell_type": "code",
   "execution_count": 6,
   "metadata": {},
   "outputs": [
    {
     "name": "stdout",
     "output_type": "stream",
     "text": [
      "[1.2968410798910097, 1.4063982391929895, 2.366575853634128, 3.9095818032960756, 2.6313035969386545, 3.2399631955512795, 4.469455052776599, 1.501712760515392, 3.2413751074553416, 1.7401067736481146]\n"
     ]
    }
   ],
   "source": [
    "clusters = [[2.5347667, 4.266428,  4.8306513],\n",
    " [3.8308525, 4.271189,  4.7866545],\n",
    " [1.2780071, 3.6351573, 4.833587 ],\n",
    " [1.2648147, 2.5732841, 3.7717996],\n",
    " [1.3066114, 1.3494881, 2.535455 ]]\n",
    "\n",
    "distances = []\n",
    "\n",
    "for i in range(len(clusters)):\n",
    "    for j in range(i + 1, len(clusters)):\n",
    "        distance = np.sqrt(sum((clusters[i][k] - clusters[j][k]) ** 2 for k in range(len(clusters[i]))))\n",
    "        distances.append(distance)\n",
    "\n",
    "print(distances)"
   ]
  },
  {
   "cell_type": "code",
   "execution_count": null,
   "metadata": {},
   "outputs": [],
   "source": []
  }
 ],
 "metadata": {
  "kernelspec": {
   "display_name": "base",
   "language": "python",
   "name": "python3"
  },
  "language_info": {
   "codemirror_mode": {
    "name": "ipython",
    "version": 3
   },
   "file_extension": ".py",
   "mimetype": "text/x-python",
   "name": "python",
   "nbconvert_exporter": "python",
   "pygments_lexer": "ipython3",
   "version": "3.11.5"
  }
 },
 "nbformat": 4,
 "nbformat_minor": 2
}
